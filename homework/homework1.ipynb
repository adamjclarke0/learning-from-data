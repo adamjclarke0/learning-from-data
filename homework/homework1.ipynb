{
 "cells": [
  {
   "cell_type": "code",
   "execution_count": null,
   "metadata": {},
   "outputs": [],
   "source": [
    "import numpy as np\n",
    "import matplotlib.pyplot as plt"
   ]
  },
  {
   "cell_type": "markdown",
   "metadata": {},
   "source": [
    "# Homework 1\n",
    "## Question 7\n",
    "This requires we implement the Perceptron Learning Algorithm (PLA) for target functions $f: \\mathcal{X} \\rightarrow \\mathcal{Y}$, where $\\mathcal{X} = [-1, 1]^2$ and $\\mathcal{Y} = \\{-1, +1\\}$, which we assume are linearly seperable. This means that the target function is determined by a line in $\\mathcal{X} = [-1, 1] \\times [-1, 1]$ and all points on one side of the line are assigned either $+1$ or $-1$ and all points on the other side of the line are assigned the other."
   ]
  },
  {
   "cell_type": "markdown",
   "metadata": {},
   "source": [
    "### Function definitions"
   ]
  },
  {
   "cell_type": "code",
   "execution_count": null,
   "metadata": {},
   "outputs": [],
   "source": [
    "def generate_target_function(a, b):\n",
    "    \"\"\" Given two points a, b in X = [-1, 1]^2,\n",
    "    this defines a line in X passing through a and b.\n",
    "    We return the function f where f(x) = 1 if x is\n",
    "    \"above\" the line and -1 if x is \"below\" the line.\n",
    "    \"\"\"\n",
    "    q = b[0] - a[0]\n",
    "    r = (b[1] - a[1])\n",
    "    s = ((a[1] * b[0]) - (a[0] * b[1]))\n",
    "    def f(x):\n",
    "        if q * x[1] > (r * x[0]) + s:\n",
    "            return 1.\n",
    "        else:\n",
    "            return -1.\n",
    "    return f"
   ]
  },
  {
   "cell_type": "code",
   "execution_count": null,
   "metadata": {},
   "outputs": [],
   "source": [
    "def generate_training_data(f, n):\n",
    "    \"\"\" Generates n training data points [x, y] for the given target function f,\n",
    "    where x = [x1, x2] is a random point in X = [-1, 1]^2 and y = f(x).\n",
    "    \"\"\"\n",
    "    X = 2 * np.random.random((n, 2)) - 1\n",
    "    Y = np.apply_along_axis(f, axis=1, arr=X)\n",
    "    X = np.insert(arr=X, obj=0, values=1, axis=1)\n",
    "    return X, Y"
   ]
  },
  {
   "cell_type": "code",
   "execution_count": null,
   "metadata": {},
   "outputs": [],
   "source": [
    "def predict(X, w):\n",
    "    \"\"\" Predicts output of the target function on inout X using weights x.\n",
    "    \"\"\"\n",
    "    return np.sign(np.dot(X, w))"
   ]
  },
  {
   "cell_type": "code",
   "execution_count": null,
   "metadata": {},
   "outputs": [],
   "source": [
    "def first_mismatch(A, B):\n",
    "    \"\"\" Returns the first index i where A[i] != B[i].\n",
    "    \"\"\"\n",
    "    for i, (a, b) in enumerate(zip(A, B)):\n",
    "        if a != b:\n",
    "            return i"
   ]
  },
  {
   "cell_type": "code",
   "execution_count": null,
   "metadata": {},
   "outputs": [],
   "source": [
    "def pla_update(X, Y, weights):\n",
    "    prediction = predict(X, weights)\n",
    "    i = first_mismatch(prediction, Y)\n",
    "    weights = weights + Y[i] * X[i]"
   ]
  },
  {
   "cell_type": "code",
   "execution_count": null,
   "metadata": {},
   "outputs": [],
   "source": [
    "def pla(X, Y):\n",
    "    \"\"\" Performs the Perceptron Learning Algorithm using the input training\n",
    "    data where f(X[i]) = Y[i]\n",
    "    \"\"\"\n",
    "    weights = np.zeros(X.shape[1])\n",
    "    prediction = predict(X, weights)\n",
    "    iteration = 0\n",
    "    while not (Y == prediction).all():\n",
    "        i = first_mismatch(prediction, Y)\n",
    "        weights = weights + Y[i] * X[i]\n",
    "        prediction = predict(X, weights)\n",
    "        iteration += 1\n",
    "    return weights, iteration"
   ]
  },
  {
   "cell_type": "code",
   "execution_count": null,
   "metadata": {},
   "outputs": [],
   "source": [
    "def generate_hypothesis_function(weights):\n",
    "    def g(x) :\n",
    "        return np.sign(np.dot(weights, np.insert(x, 0, 1)))\n",
    "    return g"
   ]
  },
  {
   "cell_type": "code",
   "execution_count": null,
   "metadata": {},
   "outputs": [],
   "source": [
    "def generate_line_points(a, b, n=50):\n",
    "    \"\"\" Given points a and b in [-1, 1]^2, produces an array of n equally\n",
    "    spaced points on the straight line through a and b.\n",
    "    \"\"\"\n",
    "    if a[0] == b[0]:\n",
    "        return np.array([[a[0], y] for y in np.arange(-1, 1, 2/n)])\n",
    "    if a[1] == b[1]:\n",
    "        return np.array([[x, a[1]] for x in np.arange(-1, 1, 2/n)])\n",
    "    \n",
    "    m = (b[1] - a[1]) / (b[0] - a[0])\n",
    "    c = ((a[1] * b[0]) - (a[0] * b[1])) / (b[0] - a[0])\n",
    "    return np.array([[x, (m * x) + c] for x in np.arange(-1, 1, 2/n)])"
   ]
  },
  {
   "cell_type": "code",
   "execution_count": null,
   "metadata": {},
   "outputs": [],
   "source": [
    "def get_estimated_line_points(w, n=50):\n",
    "    \"\"\" Produces an array of n equally spaced points on the straight line\n",
    "    in [-1, 1] forming the decision boundary of the function\n",
    "    x -> sign((w^T)x) based on the estimated weights w.\n",
    "    \"\"\"\n",
    "    if w[2] == 0:\n",
    "        return np.array([-[w[0] / w[1], y] for y in np.arange(-1, 1, 2/n)])\n",
    "    if w[1] == 0:\n",
    "        return np.array([[x, -w[0] / w[2]] for x in np.arange(-1, 1, 2/n)])\n",
    "    return np.array([[x, -(w[0] + (w[1] * x)) / w[2]] for x in np.arange(-1, 1, 2/n)])"
   ]
  },
  {
   "cell_type": "code",
   "execution_count": null,
   "metadata": {},
   "outputs": [],
   "source": [
    "def random_pla(n=10):\n",
    "    a = 2 * np.random.random(2) - 1\n",
    "    b = 2 * np.random.random(2) - 1\n",
    "    f = generate_target_function(a, b)\n",
    "    X, Y = generate_training_data(f, n)\n",
    "    weights, iterations = pla(X, Y)\n",
    "    return f, weights, iterations"
   ]
  },
  {
   "cell_type": "code",
   "execution_count": null,
   "metadata": {},
   "outputs": [],
   "source": [
    "def random_pla_plot(n=10):\n",
    "    a = 2 * np.random.random(2) - 1\n",
    "    b = 2 * np.random.random(2) - 1\n",
    "    f = generate_target_function(a, b)\n",
    "    L = generate_line_points(a, b)\n",
    "    X, Y = generate_training_data(f, n)\n",
    "    w, iterations = pla(X, Y)\n",
    "    E = get_estimated_line_points(w)\n",
    "    plt.scatter(X[:,1], X[:,2], c=Y + 1)\n",
    "    plt.plot(L[:,0], L[:,1], label='Target Function')\n",
    "    plt.plot(E[:,0], E[:,1], label='PLA Estimate ({} iterations)'.format(iterations))\n",
    "    plt.xlim(-1, 1)\n",
    "    plt.ylim(-1, 1)\n",
    "    plt.legend()"
   ]
  },
  {
   "cell_type": "code",
   "execution_count": null,
   "metadata": {},
   "outputs": [],
   "source": [
    "random_pla_plot(15)"
   ]
  },
  {
   "cell_type": "code",
   "execution_count": null,
   "metadata": {},
   "outputs": [],
   "source": [
    "def average_pla_iterations_and_error(data_points, attempts):\n",
    "    total_iterations = 0\n",
    "    difference = 0\n",
    "    points = np.arange(0, 1, 0.01)\n",
    "    for i in range(attempts):\n",
    "        f, weights, iterations = random_pla(data_points)\n",
    "        total_iterations += iterations\n",
    "        g = generate_hypothesis_function(weights)\n",
    "        for x in points:\n",
    "            for y in points:\n",
    "                difference += np.absolute(f([x, y]) - g([x, y])) / 2\n",
    "        \n",
    "    average_iterations = total_iterations / attempts\n",
    "    average_error = difference / (points.size**2 * attempts)\n",
    "    return average_iterations, average_error"
   ]
  },
  {
   "cell_type": "code",
   "execution_count": null,
   "metadata": {},
   "outputs": [],
   "source": [
    "print(average_pla_iterations_and_error(10, 1000))"
   ]
  },
  {
   "cell_type": "code",
   "execution_count": null,
   "metadata": {},
   "outputs": [],
   "source": [
    "print(average_pla_iterations_and_error(100, 1000))"
   ]
  },
  {
   "cell_type": "code",
   "execution_count": null,
   "metadata": {},
   "outputs": [],
   "source": [
    "for N in [10, 100]:\n",
    "    iterations, error = average_pla_iterations_and_error(N, 1000)\n",
    "    print('{}: {}, {}'.format(N, iterations, error))"
   ]
  },
  {
   "cell_type": "code",
   "execution_count": null,
   "metadata": {},
   "outputs": [],
   "source": [
    "N = np.array(range(5, 101, 5))\n",
    "A = []\n",
    "for n in N:\n",
    "    A.append(average_pla_iterations(n, 10000))\n",
    "A = np.array(A)\n",
    "plt.plot(N, A)"
   ]
  },
  {
   "cell_type": "code",
   "execution_count": null,
   "metadata": {},
   "outputs": [],
   "source": [
    "a = 2 * np.random.random(2) - 1\n",
    "b = 2 * np.random.random(2) - 1\n",
    "f = generate_target_function(a, b)\n",
    "L = generate_line_points(a, b)\n",
    "X, Y = generate_training_data(f, n)\n",
    "weights = np.zeros(X.shape[1])\n",
    "prediction = predict(X, weights)\n",
    "while not (Y == prediction).all():\n",
    "    i = first_mismatch(prediction, Y)\n",
    "    weights = weights + Y[i] * X[i]\n",
    "    prediction = predict(X, weights)\n",
    "return weights"
   ]
  },
  {
   "cell_type": "code",
   "execution_count": null,
   "metadata": {},
   "outputs": [],
   "source": []
  }
 ],
 "metadata": {
  "file_extension": ".py",
  "kernelspec": {
   "display_name": "Python 3",
   "language": "python",
   "name": "python3"
  },
  "language_info": {
   "codemirror_mode": {
    "name": "ipython",
    "version": 3
   },
   "file_extension": ".py",
   "mimetype": "text/x-python",
   "name": "python",
   "nbconvert_exporter": "python",
   "pygments_lexer": "ipython3",
   "version": "3.7.4"
  },
  "mimetype": "text/x-python",
  "name": "python",
  "npconvert_exporter": "python",
  "pygments_lexer": "ipython3",
  "version": 3
 },
 "nbformat": 4,
 "nbformat_minor": 2
}
